{
  "cells": [
    {
      "cell_type": "markdown",
      "id": "3e31a922-3c17-4c37-87b3-0b29b21c3978",
      "metadata": {
        "id": "3e31a922-3c17-4c37-87b3-0b29b21c3978"
      },
      "source": [
        "# KLASYFIKACJA BINARNA"
      ]
    },
    {
      "cell_type": "code",
      "execution_count": null,
      "id": "ef04d896-0344-4ca5-a493-039577b9f57d",
      "metadata": {
        "id": "ef04d896-0344-4ca5-a493-039577b9f57d"
      },
      "outputs": [],
      "source": [
        "from keras.datasets import imdb"
      ]
    },
    {
      "cell_type": "markdown",
      "id": "4eee2480-04cf-4bd7-a0bf-c73ec9112a72",
      "metadata": {
        "id": "4eee2480-04cf-4bd7-a0bf-c73ec9112a72"
      },
      "source": [
        "### Definicja danych treningowych i testowych"
      ]
    },
    {
      "cell_type": "code",
      "execution_count": null,
      "id": "36339dc9-f854-49ed-bfc2-f418a5f27b76",
      "metadata": {
        "colab": {
          "base_uri": "https://localhost:8080/"
        },
        "id": "36339dc9-f854-49ed-bfc2-f418a5f27b76",
        "outputId": "103e4e65-87d2-490c-957e-79d6abc6dc84"
      },
      "outputs": [
        {
          "output_type": "stream",
          "name": "stdout",
          "text": [
            "Downloading data from https://storage.googleapis.com/tensorflow/tf-keras-datasets/imdb.npz\n",
            "17465344/17464789 [==============================] - 0s 0us/step\n",
            "17473536/17464789 [==============================] - 0s 0us/step\n"
          ]
        }
      ],
      "source": [
        "(train_data, train_labels), (test_data, test_labels)= imdb.load_data(num_words=10000)"
      ]
    },
    {
      "cell_type": "code",
      "execution_count": null,
      "id": "178cf1c5-6a02-45b6-a0b2-1a79e48ccd1f",
      "metadata": {
        "colab": {
          "base_uri": "https://localhost:8080/"
        },
        "id": "178cf1c5-6a02-45b6-a0b2-1a79e48ccd1f",
        "outputId": "59bd6a00-eaf9-4a2c-ec2a-9d3f79d62068"
      },
      "outputs": [
        {
          "output_type": "stream",
          "name": "stdout",
          "text": [
            "[1, 14, 22, 16, 43, 530, 973, 1622, 1385, 65, 458, 4468, 66, 3941, 4, 173, 36, 256, 5, 25, 100, 43, 838, 112, 50, 670, 2, 9, 35, 480, 284, 5, 150, 4, 172, 112, 167, 2, 336, 385, 39, 4, 172, 4536, 1111, 17, 546, 38, 13, 447, 4, 192, 50, 16, 6, 147, 2025, 19, 14, 22, 4, 1920, 4613, 469, 4, 22, 71, 87, 12, 16, 43, 530, 38, 76, 15, 13, 1247, 4, 22, 17, 515, 17, 12, 16, 626, 18, 2, 5, 62, 386, 12, 8, 316, 8, 106, 5, 4, 2223, 5244, 16, 480, 66, 3785, 33, 4, 130, 12, 16, 38, 619, 5, 25, 124, 51, 36, 135, 48, 25, 1415, 33, 6, 22, 12, 215, 28, 77, 52, 5, 14, 407, 16, 82, 2, 8, 4, 107, 117, 5952, 15, 256, 4, 2, 7, 3766, 5, 723, 36, 71, 43, 530, 476, 26, 400, 317, 46, 7, 4, 2, 1029, 13, 104, 88, 4, 381, 15, 297, 98, 32, 2071, 56, 26, 141, 6, 194, 7486, 18, 4, 226, 22, 21, 134, 476, 26, 480, 5, 144, 30, 5535, 18, 51, 36, 28, 224, 92, 25, 104, 4, 226, 65, 16, 38, 1334, 88, 12, 16, 283, 5, 16, 4472, 113, 103, 32, 15, 16, 5345, 19, 178, 32]\n"
          ]
        }
      ],
      "source": [
        "print(train_data[0])"
      ]
    },
    {
      "cell_type": "markdown",
      "id": "b5640bc6-eb73-4747-b53c-7fc8e2087364",
      "metadata": {
        "id": "b5640bc6-eb73-4747-b53c-7fc8e2087364"
      },
      "source": [
        "Przykładowa zakodowana recenzja (indeksy 0,1,2 zarezerwowane 0 to padding, 1 to początek sekwencji, 2 nieznane słowo )"
      ]
    },
    {
      "cell_type": "code",
      "execution_count": null,
      "id": "b1e8958c-b9bf-4cbf-abfa-0d83d275e020",
      "metadata": {
        "colab": {
          "base_uri": "https://localhost:8080/"
        },
        "id": "b1e8958c-b9bf-4cbf-abfa-0d83d275e020",
        "outputId": "a9f80d13-2607-4112-9c35-37deb482e1f8"
      },
      "outputs": [
        {
          "output_type": "execute_result",
          "data": {
            "text/plain": [
              "9999"
            ]
          },
          "metadata": {},
          "execution_count": 4
        }
      ],
      "source": [
        "max([max(sequence) for sequence in train_data])"
      ]
    },
    {
      "cell_type": "markdown",
      "id": "e0da6b3a-2361-45c9-866e-ffc3327629ce",
      "metadata": {
        "id": "e0da6b3a-2361-45c9-866e-ffc3327629ce"
      },
      "source": [
        "Ilość najpopularniejszych słów które rozważamy"
      ]
    },
    {
      "cell_type": "code",
      "execution_count": 34,
      "id": "a6c69bc6-62df-43f1-ae31-f387640fb1f6",
      "metadata": {
        "id": "a6c69bc6-62df-43f1-ae31-f387640fb1f6"
      },
      "outputs": [],
      "source": [
        "word_index=imdb.get_word_index()\n"
      ]
    },
    {
      "cell_type": "code",
      "execution_count": null,
      "id": "aaef0031-ea9d-4a5e-b39e-c546b55e8353",
      "metadata": {
        "colab": {
          "base_uri": "https://localhost:8080/"
        },
        "id": "aaef0031-ea9d-4a5e-b39e-c546b55e8353",
        "outputId": "bb72f659-e201-4300-86f4-bbfbd4b542b7"
      },
      "outputs": [
        {
          "output_type": "stream",
          "name": "stdout",
          "text": [
            "2\n",
            "this\n",
            "? this film was just brilliant casting location scenery story direction everyone's really suited the part they played and you could just imagine being there robert ? is an amazing actor and now the same being director ? father came from the same scottish island as myself so i loved the fact there was a real connection with this film the witty remarks throughout the film were great it was just brilliant so much that i bought the film as soon as it was released for ? and would recommend it to everyone to watch and the fly fishing was amazing really cried at the end it was so sad and you know what they say if you cry at a film it must have been good and this definitely was also ? to the two little boy's that played the ? of norman and paul they were just brilliant children are often left out of the ? list i think because the stars that play them all grown up are such a big profile for the whole film but these children are amazing and should be praised for what they have done don't you think the whole story was so lovely because it was true and was someone's life after all that was shared with us all\n"
          ]
        }
      ],
      "source": [
        "reverse_word_index=dict(\n",
        "    [(value,key) for (key, value) in word_index.items()])\n",
        "decoded_review= ' '.join(\n",
        "[reverse_word_index.get(i-3, '?') for i in train_data[0]])\n",
        "print(word_index['and'])\n",
        "print(reverse_word_index[11])\n",
        "print(decoded_review)"
      ]
    },
    {
      "cell_type": "markdown",
      "id": "778276dd-85d2-462b-b8ee-d5e9f4bd762e",
      "metadata": {
        "id": "778276dd-85d2-462b-b8ee-d5e9f4bd762e"
      },
      "source": [
        "Odkodowana recenzja o indeksie 0, reverse_word_index.get(i-3, '?') tutaj get zwraca '?' jeśli wartość nie istnieje"
      ]
    },
    {
      "cell_type": "code",
      "execution_count": null,
      "id": "40dfd07d-9e70-4603-91c8-9cfd4b7578de",
      "metadata": {
        "id": "40dfd07d-9e70-4603-91c8-9cfd4b7578de"
      },
      "outputs": [],
      "source": [
        "import numpy as np"
      ]
    },
    {
      "cell_type": "code",
      "execution_count": null,
      "id": "3cabd405-909f-43fb-9f01-91d645386881",
      "metadata": {
        "colab": {
          "base_uri": "https://localhost:8080/"
        },
        "id": "3cabd405-909f-43fb-9f01-91d645386881",
        "outputId": "a6f421bd-9795-406e-acef-247d71a8c11b"
      },
      "outputs": [
        {
          "output_type": "stream",
          "name": "stdout",
          "text": [
            "[[0. 0. 0. 1. 0. 0. 0. 0. 0. 0. 0. 0. 0. 0. 0. 0. 0. 0. 0. 0. 0. 0. 0. 0.\n",
            "  0. 0. 0. 0. 0. 0. 0. 0. 0. 0. 0. 0. 0. 0. 0. 0. 0. 0. 0. 0. 0. 0. 0. 0.\n",
            "  0. 0. 0. 0. 0. 0. 0. 0. 0. 0. 0. 0. 0. 0. 0. 0. 0. 0. 0. 0. 0. 0. 0. 0.\n",
            "  0. 0. 0. 0. 0. 0. 0. 0. 0. 0. 0. 0. 0. 0. 0. 0. 0. 0. 0. 0. 0. 0. 0. 0.\n",
            "  0. 0. 0. 0.]\n",
            " [0. 0. 0. 0. 0. 1. 0. 0. 0. 0. 0. 0. 0. 0. 0. 0. 0. 0. 0. 0. 0. 0. 0. 0.\n",
            "  0. 0. 0. 0. 0. 0. 0. 0. 0. 0. 0. 0. 0. 0. 0. 0. 0. 0. 0. 0. 0. 0. 0. 0.\n",
            "  0. 0. 0. 0. 0. 0. 0. 0. 0. 0. 0. 0. 0. 0. 0. 0. 0. 0. 0. 0. 0. 0. 0. 0.\n",
            "  0. 0. 0. 0. 0. 0. 0. 0. 0. 0. 0. 0. 0. 0. 0. 0. 0. 0. 0. 0. 0. 0. 0. 0.\n",
            "  0. 0. 0. 0.]]\n"
          ]
        }
      ],
      "source": [
        "def vectorize_sequences(sequences, dimension=10000):\n",
        "    results = np.zeros((len(sequences), dimension))\n",
        "    for i, sequence in enumerate(sequences):\n",
        "        results[i, sequence] = 1\n",
        "    return results\n",
        "print(vectorize_sequences([3,5], dimension=100))\n"
      ]
    },
    {
      "cell_type": "code",
      "execution_count": null,
      "id": "e75fc08e-88ea-4ce8-af8d-2210cff07d8e",
      "metadata": {
        "id": "e75fc08e-88ea-4ce8-af8d-2210cff07d8e"
      },
      "outputs": [],
      "source": [
        "x_train=vectorize_sequences(train_data)\n",
        "x_test=vectorize_sequences(test_data)"
      ]
    },
    {
      "cell_type": "markdown",
      "id": "021c2d90-0697-4142-bc24-0f95399bb50f",
      "metadata": {
        "id": "021c2d90-0697-4142-bc24-0f95399bb50f"
      },
      "source": [
        "Zamiana danych treningowych i testowych na wektory"
      ]
    },
    {
      "cell_type": "code",
      "execution_count": null,
      "id": "164653ae-94af-4146-a5cb-c46e4241ec34",
      "metadata": {
        "colab": {
          "base_uri": "https://localhost:8080/"
        },
        "id": "164653ae-94af-4146-a5cb-c46e4241ec34",
        "outputId": "8d1446e3-41be-438d-d358-c349a982b655"
      },
      "outputs": [
        {
          "output_type": "execute_result",
          "data": {
            "text/plain": [
              "array([0., 1., 1., ..., 0., 0., 0.])"
            ]
          },
          "metadata": {},
          "execution_count": 10
        }
      ],
      "source": [
        "x_train[0]"
      ]
    },
    {
      "cell_type": "code",
      "execution_count": null,
      "id": "1dc66284-92a5-4fa7-be9f-7b80406b8a5b",
      "metadata": {
        "id": "1dc66284-92a5-4fa7-be9f-7b80406b8a5b"
      },
      "outputs": [],
      "source": [
        "y_train=np.asarray(train_labels).astype('float32')\n",
        "y_test=np.asarray(test_labels).astype('float32')"
      ]
    },
    {
      "cell_type": "markdown",
      "id": "b62629fe-aa40-47cb-9fdf-21ca629acf0b",
      "metadata": {
        "id": "b62629fe-aa40-47cb-9fdf-21ca629acf0b"
      },
      "source": [
        "Zamiana etykiet próbek na wektory"
      ]
    },
    {
      "cell_type": "markdown",
      "id": "d3fec462-5a44-4c1f-aaee-bc7a6a1ad5d1",
      "metadata": {
        "id": "d3fec462-5a44-4c1f-aaee-bc7a6a1ad5d1"
      },
      "source": [
        "### Budowa sieci neuronowej"
      ]
    },
    {
      "cell_type": "markdown",
      "id": "e90bc01d-4eca-49bd-8a32-8b8ed83811d7",
      "metadata": {
        "id": "e90bc01d-4eca-49bd-8a32-8b8ed83811d7"
      },
      "source": [
        "### Ta sieć neuronowa będzie składać się z 3 warstw:\n",
        "- dwóch warstw pośrednich Dense, zawierających po 16 ukrytych jednostek ( wymiarów przestrzeni ) każda\n",
        "- jednej warstwy Dense generującej przewidywania w postaci skalarnej ( z przedziału od 0 do 1 )"
      ]
    },
    {
      "cell_type": "code",
      "execution_count": null,
      "id": "cfac9160-08e2-4900-941f-f3527f669a5c",
      "metadata": {
        "id": "cfac9160-08e2-4900-941f-f3527f669a5c"
      },
      "outputs": [],
      "source": [
        "from keras import models\n",
        "from keras import layers"
      ]
    },
    {
      "cell_type": "code",
      "execution_count": null,
      "id": "2b7865dd-60f0-4074-badf-b404127db55b",
      "metadata": {
        "id": "2b7865dd-60f0-4074-badf-b404127db55b"
      },
      "outputs": [],
      "source": [
        "model = models.Sequential()\n",
        "model.add(layers.Dense(16, activation='relu', input_shape=(10000,)))\n",
        "model.add(layers.Dense(16, activation='relu'))\n",
        "model.add(layers.Dense(1, activation='sigmoid'))"
      ]
    },
    {
      "cell_type": "code",
      "execution_count": null,
      "id": "f79b69ca-cf36-46e5-84fa-ff3d1b16eb40",
      "metadata": {
        "id": "f79b69ca-cf36-46e5-84fa-ff3d1b16eb40"
      },
      "outputs": [],
      "source": [
        "model.compile(optimizer='rmsprop',\n",
        "             loss='binary_crossentropy',\n",
        "             metrics=['accuracy'])"
      ]
    },
    {
      "cell_type": "markdown",
      "source": [
        "Metryka, optymalizator i funkcja są definiowane za pomocą łańcuchów"
      ],
      "metadata": {
        "id": "0SiRUjZ5Jmv3"
      },
      "id": "0SiRUjZ5Jmv3"
    },
    {
      "cell_type": "code",
      "source": [
        "from tensorflow.keras import optimizers"
      ],
      "metadata": {
        "id": "T_jUOWKAHzz2"
      },
      "id": "T_jUOWKAHzz2",
      "execution_count": 18,
      "outputs": []
    },
    {
      "cell_type": "code",
      "source": [
        "model.compile(optimizer=optimizers.RMSprop(lr=0.001),\n",
        "              loss='binary_crossentropy',\n",
        "              metrics=['accuracy'])"
      ],
      "metadata": {
        "id": "DecNcHpmH6ur"
      },
      "id": "DecNcHpmH6ur",
      "execution_count": null,
      "outputs": []
    },
    {
      "cell_type": "markdown",
      "source": [
        "Konfiguracja optymalizatora"
      ],
      "metadata": {
        "id": "z6I3wzSvJx5E"
      },
      "id": "z6I3wzSvJx5E"
    },
    {
      "cell_type": "code",
      "source": [
        "from keras import losses\n",
        "from keras import metrics"
      ],
      "metadata": {
        "id": "O0KB0fJSIjb7"
      },
      "id": "O0KB0fJSIjb7",
      "execution_count": 20,
      "outputs": []
    },
    {
      "cell_type": "code",
      "source": [
        "model.compile(optimizer=optimizers.RMSprop(lr=0.001),\n",
        "              loss = losses.binary_crossentropy,\n",
        "              metrics=[metrics.binary_accuracy])"
      ],
      "metadata": {
        "id": "zrpT1Bl_JcuX"
      },
      "id": "zrpT1Bl_JcuX",
      "execution_count": null,
      "outputs": []
    },
    {
      "cell_type": "markdown",
      "source": [
        "Korzystanie z własnych funkcji straty i metryki"
      ],
      "metadata": {
        "id": "1qh1y6pxKGe1"
      },
      "id": "1qh1y6pxKGe1"
    },
    {
      "cell_type": "code",
      "source": [
        "x_val = x_train[:10000]\n",
        "partial_x_train = x_train[10000:]"
      ],
      "metadata": {
        "id": "EsmhmzKFKD-q"
      },
      "id": "EsmhmzKFKD-q",
      "execution_count": 22,
      "outputs": []
    },
    {
      "cell_type": "code",
      "source": [
        "y_val = y_train[:10000]\n",
        "partial_y_train = y_train[10000:]"
      ],
      "metadata": {
        "id": "cTEGJnNqKZ8o"
      },
      "id": "cTEGJnNqKZ8o",
      "execution_count": 23,
      "outputs": []
    },
    {
      "cell_type": "markdown",
      "source": [
        "Tworzenie zbioru walidacyjnego"
      ],
      "metadata": {
        "id": "aEsAKxNfKmWF"
      },
      "id": "aEsAKxNfKmWF"
    },
    {
      "cell_type": "code",
      "source": [
        "model.compile(optimizer='rmsprop',\n",
        "              loss= 'binary_crossentropy',\n",
        "              metrics=['acc'])\n",
        "history = model.fit(partial_x_train,\n",
        "                    partial_y_train,\n",
        "                    epochs=20,\n",
        "                    batch_size=512,\n",
        "                    validation_data=(x_val, y_val))"
      ],
      "metadata": {
        "id": "lugb-Km8Kjp2"
      },
      "id": "lugb-Km8Kjp2",
      "execution_count": null,
      "outputs": []
    },
    {
      "cell_type": "markdown",
      "source": [
        "Trenowanie modelu przez 20 epok ( wykona 20 iteracji wszystkich próbek znajdujących się w tensorach x_train i y_train, z podziałem na wsady po 512 próbek. Jednocześnie monitoruję funckje straty i dokładność modelu.\n"
      ],
      "metadata": {
        "id": "GcjrdhHLLSxt"
      },
      "id": "GcjrdhHLLSxt"
    },
    {
      "cell_type": "code",
      "source": [
        "history_dict= history.history"
      ],
      "metadata": {
        "id": "6BD4zWFORFSX"
      },
      "id": "6BD4zWFORFSX",
      "execution_count": 28,
      "outputs": []
    },
    {
      "cell_type": "code",
      "source": [
        "import matplotlib.pyplot as plt\n",
        "\n",
        "acc = history.history['acc']\n",
        "val_acc = history.history['val_acc']\n",
        "loss = history.history['loss']\n",
        "val_loss = history.history['val_loss']\n",
        "\n",
        "epochs = range(1, len(acc) + 1)\n",
        "\n",
        "plt.plot(epochs, loss, 'bo', label='Strata trenowania') # linia przerywana w postaci niebieskich kropek\n",
        "plt.plot(epochs, val_loss, 'b', label='Strata walidacji') # linia ciągła niebieska\n",
        "plt.title('Strata trenowania i walidacji')\n",
        "plt.xlabel(\"Epoki\")\n",
        "plt.ylabel('Strata')\n",
        "plt.legend()\n",
        "\n",
        "plt.show()"
      ],
      "metadata": {
        "colab": {
          "base_uri": "https://localhost:8080/",
          "height": 295
        },
        "id": "9ln9WChOLs0Q",
        "outputId": "ff5786d1-1bb7-4584-f72f-5367619b606f"
      },
      "id": "9ln9WChOLs0Q",
      "execution_count": 26,
      "outputs": [
        {
          "output_type": "display_data",
          "data": {
            "text/plain": [
              "<Figure size 432x288 with 1 Axes>"
            ],
            "image/png": "[encoded data removed]"
          },
          "metadata": {
            "needs_background": "light"
          }
        }
      ]
    },
    {
      "cell_type": "code",
      "source": [
        "plt.clf()\n",
        "\n",
        "acc_values = history_dict['acc']\n",
        "val_acc_values = history_dict['val_acc']\n",
        "\n",
        "plt.plot(epochs, acc, 'bo', label='Dokladnosc trenowania') # linia przerywana w postaci niebieskich kropek\n",
        "plt.plot(epochs, val_acc, 'b', label='Dokladnos walidacji') # linia ciągła niebieska\n",
        "plt.title('Dokladnosc trenowania i walidacji')\n",
        "plt.xlabel('Epoki')\n",
        "plt.ylabel('Strata')\n",
        "plt.legend()\n",
        "\n",
        "plt.show()\n",
        "\n"
      ],
      "metadata": {
        "colab": {
          "base_uri": "https://localhost:8080/",
          "height": 295
        },
        "id": "gjXIxou0Qa_B",
        "outputId": "b50091bd-d2f6-45af-aa22-a00adc152bfd"
      },
      "id": "gjXIxou0Qa_B",
      "execution_count": 29,
      "outputs": [
        {
          "output_type": "display_data",
          "data": {
            "text/plain": [
              "<Figure size 432x288 with 1 Axes>"
            ],
            "image/png": "[encoded data removed]"
          },
          "metadata": {
            "needs_background": "light"
          }
        }
      ]
    },
    {
      "cell_type": "code",
      "source": [
        "model = models.Sequential()\n",
        "model.add(layers.Dense(16, activation='relu', input_shape=(10000,)))\n",
        "model.add(layers.Dense(16, activation='relu'))\n",
        "model.add(layers.Dense(1, activation='sigmoid'))\n",
        "\n",
        "model.compile(optimizer='rmsprop',\n",
        "              loss='binary_crossentropy',\n",
        "              metrics=['accuracy'])\n",
        "\n",
        "model.fit(x_train, y_train, epochs=4, batch_size=512)\n",
        "results=model.evaluate(x_test, y_test)"
      ],
      "metadata": {
        "id": "DQ2zQG9QRBYW"
      },
      "id": "DQ2zQG9QRBYW",
      "execution_count": null,
      "outputs": []
    },
    {
      "cell_type": "markdown",
      "source": [
        "Ponowne uczenie modelu od początku ( zredukowano liczbe epok, aby uniknąć zjawiska przetrenowania )"
      ],
      "metadata": {
        "id": "D5RpqIQ0Tl1f"
      },
      "id": "D5RpqIQ0Tl1f"
    },
    {
      "cell_type": "code",
      "source": [
        "results"
      ],
      "metadata": {
        "colab": {
          "base_uri": "https://localhost:8080/"
        },
        "id": "NRsvFA4gThnw",
        "outputId": "55493b64-4d74-4654-dc60-6855e5a91e57"
      },
      "id": "NRsvFA4gThnw",
      "execution_count": 32,
      "outputs": [
        {
          "output_type": "execute_result",
          "data": {
            "text/plain": [
              "[0.3072217106819153, 0.8787199854850769]"
            ]
          },
          "metadata": {},
          "execution_count": 32
        }
      ]
    },
    {
      "cell_type": "markdown",
      "source": [
        "Skuteczność na poziomie 88%"
      ],
      "metadata": {
        "id": "tqd71On-Tw-T"
      },
      "id": "tqd71On-Tw-T"
    },
    {
      "cell_type": "code",
      "source": [
        "model.predict(x_test)"
      ],
      "metadata": {
        "colab": {
          "base_uri": "https://localhost:8080/"
        },
        "id": "b5f0VcwST0az",
        "outputId": "b3cae964-316a-4352-ceed-397c709dca1e"
      },
      "id": "b5f0VcwST0az",
      "execution_count": 35,
      "outputs": [
        {
          "output_type": "execute_result",
          "data": {
            "text/plain": [
              "array([[0.12482849],\n",
              "       [0.99988997],\n",
              "       [0.79692686],\n",
              "       ...,\n",
              "       [0.09965089],\n",
              "       [0.05508211],\n",
              "       [0.5504749 ]], dtype=float32)"
            ]
          },
          "metadata": {},
          "execution_count": 35
        }
      ]
    },
    {
      "cell_type": "code",
      "source": [
        ""
      ],
      "metadata": {
        "id": "8GB3_QLaUtP-"
      },
      "id": "8GB3_QLaUtP-",
      "execution_count": null,
      "outputs": []
    }
  ],
  "metadata": {
    "kernelspec": {
      "display_name": "Python 3",
      "language": "python",
      "name": "python3"
    },
    "language_info": {
      "codemirror_mode": {
        "name": "ipython",
        "version": 3
      },
      "file_extension": ".py",
      "mimetype": "text/x-python",
      "name": "python",
      "nbconvert_exporter": "python",
      "pygments_lexer": "ipython3",
      "version": "3.8.5"
    },
    "colab": {
      "name": "DL1-IMDB.ipynb",
      "provenance": []
    }
  },
  "nbformat": 4,
  "nbformat_minor": 5
}